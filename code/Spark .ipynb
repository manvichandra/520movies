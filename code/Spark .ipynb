{
 "cells": [
  {
   "cell_type": "code",
   "execution_count": 204,
   "metadata": {
    "collapsed": true
   },
   "outputs": [],
   "source": [
    "Movie = sc.textFile(\"swift://520movies.spark/movielist.txt\")"
   ]
  },
  {
   "cell_type": "code",
   "execution_count": 205,
   "metadata": {
    "collapsed": false
   },
   "outputs": [
    {
     "name": "stdout",
     "output_type": "stream",
     "text": [
      "The first line in the 2015.csv dataset: [u'1,How the Grinch Stole Christmas,20001117,Universal,Comedy,PG,253367455,47006949', u'2,Mission  Impossible 2,20000524,Paramount Pictures,Action,PG-13,215397307,39962395']\n"
     ]
    }
   ],
   "source": [
    "print \"The first line in the 2015.csv dataset:\", Movie.take(2)"
   ]
  },
  {
   "cell_type": "code",
   "execution_count": 206,
   "metadata": {
    "collapsed": true
   },
   "outputs": [],
   "source": [
    "MovieParse = Movie.map(lambda line : line.split(\",\"))"
   ]
  },
  {
   "cell_type": "code",
   "execution_count": 207,
   "metadata": {
    "collapsed": false
   },
   "outputs": [
    {
     "data": {
      "text/plain": [
       "[u'1',\n",
       " u'How the Grinch Stole Christmas',\n",
       " u'20001117',\n",
       " u'Universal',\n",
       " u'Comedy',\n",
       " u'PG',\n",
       " u'253367455',\n",
       " u'47006949']"
      ]
     },
     "execution_count": 207,
     "metadata": {},
     "output_type": "execute_result"
    }
   ],
   "source": [
    "MovieParse.take(2)[0]"
   ]
  },
  {
   "cell_type": "code",
   "execution_count": 208,
   "metadata": {
    "collapsed": true
   },
   "outputs": [],
   "source": [
    "from pyspark.sql import SQLContext, Row\n",
    "from datetime import datetime"
   ]
  },
  {
   "cell_type": "code",
   "execution_count": 209,
   "metadata": {
    "collapsed": true
   },
   "outputs": [],
   "source": [
    "sqlContext = SQLContext(sc)"
   ]
  },
  {
   "cell_type": "code",
   "execution_count": 211,
   "metadata": {
    "collapsed": true
   },
   "outputs": [],
   "source": [
    "MovieRows = MovieParse.map(lambda p: Row(Rank=int(p[0]), Movie=str(p[1]), Date = datetime.strptime(p[2], '%Y%m%d').year, Distributor=str(p[3]),Genre=str(p[4]),MPAA=str(p[5]),Gross=float(p[6]),Tickets_Sold=int(p[7])))"
   ]
  },
  {
   "cell_type": "code",
   "execution_count": 212,
   "metadata": {
    "collapsed": false
   },
   "outputs": [
    {
     "data": {
      "text/plain": [
       "Row(Date=2000, Distributor='Universal', Genre='Comedy', Gross=253367455.0, MPAA='PG', Movie='How the Grinch Stole Christmas', Rank=1, Tickets_Sold=47006949)"
      ]
     },
     "execution_count": 212,
     "metadata": {},
     "output_type": "execute_result"
    }
   ],
   "source": [
    "MovieRows.first()"
   ]
  },
  {
   "cell_type": "code",
   "execution_count": 213,
   "metadata": {
    "collapsed": true
   },
   "outputs": [],
   "source": [
    "MovieSchema = sqlContext.createDataFrame(MovieRows)"
   ]
  },
  {
   "cell_type": "code",
   "execution_count": 214,
   "metadata": {
    "collapsed": true
   },
   "outputs": [],
   "source": [
    "\n",
    "MovieSchema.registerTempTable(\"Movies\")"
   ]
  },
  {
   "cell_type": "code",
   "execution_count": 215,
   "metadata": {
    "collapsed": true
   },
   "outputs": [],
   "source": [
    "sqlContext.cacheTable(\"Movies\")"
   ]
  },
  {
   "cell_type": "code",
   "execution_count": 216,
   "metadata": {
    "collapsed": true
   },
   "outputs": [],
   "source": [
    "data=sqlContext.sql(\"Select * from Movies limit 5\")"
   ]
  },
  {
   "cell_type": "code",
   "execution_count": 217,
   "metadata": {
    "collapsed": false
   },
   "outputs": [
    {
     "name": "stdout",
     "output_type": "stream",
     "text": [
      "+----+------------------+------+------------+-----+--------------------+----+------------+\n",
      "|Date|       Distributor| Genre|       Gross| MPAA|               Movie|Rank|Tickets_Sold|\n",
      "+----+------------------+------+------------+-----+--------------------+----+------------+\n",
      "|2000|         Universal|Comedy|2.53367455E8|   PG|How the Grinch St...|   1|    47006949|\n",
      "|2000|Paramount Pictures|Action|2.15397307E8|PG-13|Mission  Impossib...|   2|    39962395|\n",
      "|2000|     Sony Pictures|Action|1.86610052E8|    R|           Gladiator|   3|    34621531|\n",
      "|2000|       Warner Bros| Drama|1.82618434E8|PG-13|   The Perfect Storm|   4|    33880971|\n",
      "|2000|         Universal|Comedy| 1.6132549E8|PG-13|    Meet the Parents|   5|    29930518|\n",
      "+----+------------------+------+------------+-----+--------------------+----+------------+\n",
      "\n"
     ]
    }
   ],
   "source": [
    "data.show()"
   ]
  },
  {
   "cell_type": "code",
   "execution_count": 218,
   "metadata": {
    "collapsed": false
   },
   "outputs": [
    {
     "name": "stdout",
     "output_type": "stream",
     "text": [
      "+----+----+\n",
      "|Date|MPAA|\n",
      "+----+----+\n",
      "|2006|   R|\n",
      "|2006|   R|\n",
      "|2006|   R|\n",
      "|2006|   R|\n",
      "|2006|   R|\n",
      "|2006|   R|\n",
      "|2006|   R|\n",
      "|2006|   R|\n",
      "|2006|   R|\n",
      "|2006|   R|\n",
      "|2006|   R|\n",
      "|2006|   R|\n",
      "|2006|   R|\n",
      "|2006|   R|\n",
      "|2006|   R|\n",
      "|2006|   R|\n",
      "|2006|   R|\n",
      "|2006|   R|\n",
      "|2006|   R|\n",
      "|2006|   R|\n",
      "+----+----+\n",
      "\n"
     ]
    }
   ],
   "source": [
    "data=sqlContext.sql(\"Select Date,MPAA from Movies where Date >'2005' and MPAA='R'\")\n",
    "data.show()"
   ]
  },
  {
   "cell_type": "code",
   "execution_count": 219,
   "metadata": {
    "collapsed": false
   },
   "outputs": [
    {
     "name": "stdout",
     "output_type": "stream",
     "text": [
      "+----+----+\n",
      "|Date|MPAA|\n",
      "+----+----+\n",
      "|2006|   G|\n",
      "|2006|   G|\n",
      "|2006|   G|\n",
      "|2006|   G|\n",
      "|2006|   G|\n",
      "|2006|   G|\n",
      "|2006|   G|\n",
      "|2006|   G|\n",
      "|2006|   G|\n",
      "|2006|   G|\n",
      "|2008|   G|\n",
      "|2008|   G|\n",
      "|2008|   G|\n",
      "|2008|   G|\n",
      "|2008|   G|\n",
      "|2008|   G|\n",
      "|2008|   G|\n",
      "|2008|   G|\n",
      "|2008|   G|\n",
      "|2008|   G|\n",
      "+----+----+\n",
      "\n"
     ]
    }
   ],
   "source": [
    "data=sqlContext.sql(\"Select Date,MPAA from Movies where Date >'2005' and MPAA='G'\")\n",
    "data.show()"
   ]
  },
  {
   "cell_type": "code",
   "execution_count": 220,
   "metadata": {
    "collapsed": false
   },
   "outputs": [
    {
     "name": "stdout",
     "output_type": "stream",
     "text": [
      "+----+-----+\n",
      "|Date| MPAA|\n",
      "+----+-----+\n",
      "|2006|PG-13|\n",
      "|2006|PG-13|\n",
      "|2006|PG-13|\n",
      "|2006|PG-13|\n",
      "|2006|PG-13|\n",
      "|2006|PG-13|\n",
      "|2006|PG-13|\n",
      "|2006|PG-13|\n",
      "|2006|PG-13|\n",
      "|2006|PG-13|\n",
      "|2006|PG-13|\n",
      "|2006|PG-13|\n",
      "|2006|PG-13|\n",
      "|2006|PG-13|\n",
      "|2006|PG-13|\n",
      "|2006|PG-13|\n",
      "|2006|PG-13|\n",
      "|2006|PG-13|\n",
      "|2006|PG-13|\n",
      "|2006|PG-13|\n",
      "+----+-----+\n",
      "\n"
     ]
    }
   ],
   "source": [
    "data=sqlContext.sql(\"Select Date,MPAA from Movies where Date >'2005' and MPAA='PG-13'\")\n",
    "data.show()"
   ]
  },
  {
   "cell_type": "code",
   "execution_count": 221,
   "metadata": {
    "collapsed": false
   },
   "outputs": [
    {
     "name": "stdout",
     "output_type": "stream",
     "text": [
      "+---------------+--------------------+\n",
      "|          Genre|               Movie|\n",
      "+---------------+--------------------+\n",
      "|         Action|Mission  Impossib...|\n",
      "|         Action|           Gladiator|\n",
      "|          Drama|   The Perfect Storm|\n",
      "|         Action|               X Men|\n",
      "|      Adventure|            Dinosaur|\n",
      "|          Drama|     Erin Brockovich|\n",
      "|         Action|     Charlies Angels|\n",
      "|Romantic Comedy|     What Women Want|\n",
      "|          Drama| Remember the Titans|\n",
      "|          Drama|         The Patriot|\n",
      "|          Drama|           Cast Away|\n",
      "|      Adventure|         Chicken Run|\n",
      "|         Action|  Gone in 60 Seconds|\n",
      "|Romantic Comedy|Me   Myself and I...|\n",
      "|      Adventure|       Space Cowboys|\n",
      "|         Action|                U571|\n",
      "|      Adventure|    Rugrats in Paris|\n",
      "|         Action|               Shaft|\n",
      "|      Adventure|     Mission to Mars|\n",
      "|          Drama|         Coyote Ugly|\n",
      "+---------------+--------------------+\n",
      "\n"
     ]
    }
   ],
   "source": [
    "data=sqlContext.sql(\"select Genre,Movie  from Movies where Genre='Action' or Genre ='Adventure' or Genre='comedy' or Genre='Drama' or Genre='horror' or Genre='multiple genres'  or Genre='Romantic Comedy' or Genre='Documentary' or  Genre='Black Comedy' \")\n",
    "data.show()"
   ]
  },
  {
   "cell_type": "code",
   "execution_count": 222,
   "metadata": {
    "collapsed": false
   },
   "outputs": [
    {
     "name": "stdout",
     "output_type": "stream",
     "text": [
      "+--------------------+--------------------+\n",
      "|         Distributor|               Movie|\n",
      "+--------------------+--------------------+\n",
      "|           Universal|How the Grinch St...|\n",
      "|  Paramount Pictures|Mission  Impossib...|\n",
      "|       Sony Pictures|           Gladiator|\n",
      "|         Warner Bros|   The Perfect Storm|\n",
      "|           Universal|    Meet the Parents|\n",
      "|    20th Century Fox|               X Men|\n",
      "|Miramax andDimension|         Scary Movie|\n",
      "|      Dreamworks SKG|   What Lies Beneath|\n",
      "|         Walt Disney|            Dinosaur|\n",
      "|           Universal|     Erin Brockovich|\n",
      "|           Universal|Nutty Professor I...|\n",
      "|       Sony Pictures|     Charlies Angels|\n",
      "|    20th Century Fox|    Big Mommas House|\n",
      "|  Paramount Pictures|     What Women Want|\n",
      "|         Walt Disney| Remember the Titans|\n",
      "|       Sony Pictures|         The Patriot|\n",
      "|    20th Century Fox|           Cast Away|\n",
      "|      Dreamworks SKG|         Chicken Run|\n",
      "|         Walt Disney|  Gone in 60 Seconds|\n",
      "|    20th Century Fox|Me   Myself and I...|\n",
      "+--------------------+--------------------+\n",
      "\n"
     ]
    }
   ],
   "source": [
    "data=sqlContext.sql(\"select Distributor,Movie  from Movies \")\n",
    "data.show()"
   ]
  },
  {
   "cell_type": "code",
   "execution_count": 223,
   "metadata": {
    "collapsed": false
   },
   "outputs": [
    {
     "name": "stdout",
     "output_type": "stream",
     "text": [
      "+----+------------+--------------------+\n",
      "|Date|       Gross|               Movie|\n",
      "+----+------------+--------------------+\n",
      "|2000|2.53367455E8|How the Grinch St...|\n",
      "|2000|2.15397307E8|Mission  Impossib...|\n",
      "|2001|2.91594218E8|Harry Potter and ...|\n",
      "|2001|2.67652016E8|               Shrek|\n",
      "|2001|2.39190413E8|    Monsters   Inc  |\n",
      "|2001|2.26138454E8|         Rush Hour 2|\n",
      "|2001| 2.0200764E8|   The Mummy Returns|\n",
      "|2002|4.03706375E8|          Spider Man|\n",
      "|2002|3.02181125E8|Star Wars Ep   II...|\n",
      "|2002|   2.45996E8|Harry Potter and ...|\n",
      "|2002|2.27535166E8|               Signs|\n",
      "|2002|2.22517469E8|My Big Fat Greek ...|\n",
      "|2002|2.13079163E8|Austin Powers in ...|\n",
      "|2003|3.39714367E8|        Finding Nemo|\n",
      "|2003|3.05411224E8|Pirates of the Ca...|\n",
      "|2003|2.90410961E8|The Lord of the R...|\n",
      "|2003|2.81553689E8| The Matrix Reloaded|\n",
      "|2003|2.42701167E8|      Bruce Almighty|\n",
      "|2003| 2.1494878E8|                  X2|\n",
      "|2004|4.36471036E8|             Shrek 2|\n",
      "+----+------------+--------------------+\n",
      "\n"
     ]
    }
   ],
   "source": [
    "data=sqlContext.sql(\"select Date,Gross,Movie from Movies where Gross >200000000\")\n",
    "data.show()"
   ]
  },
  {
   "cell_type": "code",
   "execution_count": 224,
   "metadata": {
    "collapsed": false
   },
   "outputs": [
    {
     "name": "stdout",
     "output_type": "stream",
     "text": [
      "+----+--------------------+\n",
      "|Rank|               Movie|\n",
      "+----+--------------------+\n",
      "|   1|How the Grinch St...|\n",
      "|   2|Mission  Impossib...|\n",
      "|   1|Harry Potter and ...|\n",
      "|   2|               Shrek|\n",
      "|   3|    Monsters   Inc  |\n",
      "|   4|         Rush Hour 2|\n",
      "|   5|   The Mummy Returns|\n",
      "|   1|          Spider Man|\n",
      "|   2|Star Wars Ep   II...|\n",
      "|   3|Harry Potter and ...|\n",
      "|   5|               Signs|\n",
      "|   6|My Big Fat Greek ...|\n",
      "|   7|Austin Powers in ...|\n",
      "|   1|        Finding Nemo|\n",
      "|   2|Pirates of the Ca...|\n",
      "|   3|The Lord of the R...|\n",
      "|   4| The Matrix Reloaded|\n",
      "|   5|      Bruce Almighty|\n",
      "|   6|                  X2|\n",
      "|   1|             Shrek 2|\n",
      "+----+--------------------+\n",
      "\n"
     ]
    }
   ],
   "source": [
    "data=sqlContext.sql(\"Select Rank,Movie from Movies where Gross>200000000\")\n",
    "data.show()"
   ]
  },
  {
   "cell_type": "code",
   "execution_count": null,
   "metadata": {
    "collapsed": true
   },
   "outputs": [],
   "source": []
  },
  {
   "cell_type": "code",
   "execution_count": null,
   "metadata": {
    "collapsed": true
   },
   "outputs": [],
   "source": []
  }
 ],
 "metadata": {
  "kernelspec": {
   "display_name": "Python 2",
   "language": "python",
   "name": "python2"
  },
  "language_info": {
   "codemirror_mode": {
    "name": "ipython",
    "version": 2
   },
   "file_extension": ".py",
   "mimetype": "text/x-python",
   "name": "python",
   "nbconvert_exporter": "python",
   "pygments_lexer": "ipython2",
   "version": "2.7.9"
  }
 },
 "nbformat": 4,
 "nbformat_minor": 0
}